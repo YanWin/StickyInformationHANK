{
 "cells": [
  {
   "cell_type": "markdown",
   "source": [
    "# Thesis Replication - Overview\n",
    "This notebooks acts as an overview on how to replicate the content of the thesis.\n",
    "\n",
    "Replication steps:\n",
    "1."
   ],
   "metadata": {
    "collapsed": false
   }
  }
 ],
 "metadata": {
  "kernelspec": {
   "display_name": "Python 3",
   "language": "python",
   "name": "python3"
  },
  "language_info": {
   "codemirror_mode": {
    "name": "ipython",
    "version": 2
   },
   "file_extension": ".py",
   "mimetype": "text/x-python",
   "name": "python",
   "nbconvert_exporter": "python",
   "pygments_lexer": "ipython2",
   "version": "2.7.6"
  }
 },
 "nbformat": 4,
 "nbformat_minor": 0
}
