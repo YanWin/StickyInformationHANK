{
 "cells": [
  {
   "cell_type": "code",
   "execution_count": 28,
   "metadata": {
    "collapsed": true
   },
   "outputs": [],
   "source": [
    "import numpy as np\n",
    "import pandas as pd\n",
    "import os\n",
    "import matplotlib.pyplot as plt"
   ]
  },
  {
   "cell_type": "markdown",
   "source": [
    "Sources:\n",
    "https://www.federalreserve.gov/econres/scfindex.htm#table3\n",
    "descriptions: https://sda.berkeley.edu/sdaweb/docs/scfcomb2019/DOC/hcbkfx0.htm\n",
    "https://www.federalreserve.gov/econres/files/Networth%20Flowchart.pdf"
   ],
   "metadata": {
    "collapsed": false
   }
  },
  {
   "cell_type": "code",
   "execution_count": 48,
   "outputs": [],
   "source": [
    "current_path = os.getcwd()\n",
    "data_path = os.path.join(current_path,'data','SCFP2019.csv')\n",
    "df = pd.read_csv(data_path)"
   ],
   "metadata": {
    "collapsed": false
   }
  },
  {
   "cell_type": "markdown",
   "source": [
    "Variables to keep: transaction accounts (deposits), certificates of deposit (CDs), bonds, stocks, mutual funds, and retirement assets\n",
    "From Carrol paper\n"
   ],
   "metadata": {
    "collapsed": false
   }
  },
  {
   "cell_type": "code",
   "execution_count": 49,
   "outputs": [],
   "source": [
    "vars = {'WGT': 'Sample weight',\n",
    "        'CDS': 'Total value of certificates of deposit held by household, 2019 dollars',\n",
    "        'LIQ': 'Total value of all types of transactions accounts, 2019 dollars',\n",
    "        'NMMF': 'Directly held pooled investment funds (exc. money mkt funds)',\n",
    "        'SAVBND': 'Savings bonds',\n",
    "        'STOCKS': 'Directly held stocks',\n",
    "        'BOND': 'Directly held bonds (excl. bond funds orsavings bonds',\n",
    "        'CASHLI': 'Cash value of whole life insurance',\n",
    "        'OTHMA': 'Other managed assets',\n",
    "        'RETQLIQ': 'Quasi-liquid retirement accounts',\n",
    "        'OTHFIN': 'Other misc. financial assets',\n",
    "        'FIN': 'Total financial assets'\n",
    "}"
   ],
   "metadata": {
    "collapsed": false
   }
  },
  {
   "cell_type": "code",
   "execution_count": 51,
   "outputs": [],
   "source": [
    "df['weight'] = df['WGT'] / df['WGT'].sum()\n",
    "# df['total'] = all others sum to FIN\n",
    "df['weighted_FIN_assets'] = df['weight'] * df['FIN']\n",
    "df = df.sort_values('FIN')\n",
    "tab = np.asarray(df.loc[:, ['weight', 'FIN', 'weighted_FIN_assets']])"
   ],
   "metadata": {
    "collapsed": false
   }
  },
  {
   "cell_type": "code",
   "execution_count": 52,
   "outputs": [
    {
     "data": {
      "text/plain": "[<matplotlib.lines.Line2D at 0x2109bb513a0>]"
     },
     "execution_count": 52,
     "metadata": {},
     "output_type": "execute_result"
    },
    {
     "data": {
      "text/plain": "<Figure size 800x500 with 1 Axes>",
      "image/png": "[encoded data removed]"
     },
     "metadata": {},
     "output_type": "display_data"
    }
   ],
   "source": [
    "fig = plt.figure(figsize=(8,5))\n",
    "ax = fig.add_subplot(1,1,1)\n",
    "ax.plot(np.insert(tab[:,0].cumsum(), 0,0),np.insert((tab[:,2] / tab[:,2].sum()).cumsum(),0,0),label='Liquid assets')"
   ],
   "metadata": {
    "collapsed": false
   }
  },
  {
   "cell_type": "code",
   "execution_count": null,
   "outputs": [],
   "source": [],
   "metadata": {
    "collapsed": false
   }
  }
 ],
 "metadata": {
  "kernelspec": {
   "display_name": "Python 3",
   "language": "python",
   "name": "python3"
  },
  "language_info": {
   "codemirror_mode": {
    "name": "ipython",
    "version": 2
   },
   "file_extension": ".py",
   "mimetype": "text/x-python",
   "name": "python",
   "nbconvert_exporter": "python",
   "pygments_lexer": "ipython2",
   "version": "2.7.6"
  }
 },
 "nbformat": 4,
 "nbformat_minor": 0
}
