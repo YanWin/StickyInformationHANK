{
 "cells": [
  {
   "cell_type": "markdown",
   "metadata": {},
   "source": [
    "# Imports"
   ]
  },
  {
   "cell_type": "code",
   "execution_count": 1,
   "metadata": {
    "collapsed": false,
    "jupyter": {
     "outputs_hidden": false
    }
   },
   "outputs": [],
   "source": [
    "%load_ext autoreload\n",
    "%autoreload 2\n",
    "\n",
    "import numpy as np\n",
    "import matplotlib.pyplot as plt\n",
    "\n",
    "from HANKStickyModel import HANKStickyModelClass"
   ]
  },
  {
   "cell_type": "markdown",
   "metadata": {},
   "source": [
    "# Solve the model"
   ]
  },
  {
   "cell_type": "code",
   "execution_count": 2,
   "outputs": [],
   "source": [
    "def solution_routine(model, do_print=False):\n",
    "    \"\"\" solve model \"\"\"\n",
    "    # init model\n",
    "    print('\\r'+f' -------- Model: {model.name} ---------')\n",
    "    # solve model\n",
    "    print(\"\\r\"+'Find steady state  ',end=\"\")\n",
    "    model.find_ss(do_print=do_print)\n",
    "    print(\"\\r\"+'Compute Jacobians  ',end=\"\")\n",
    "    model.compute_jacs(do_print=do_print)\n",
    "    print(\"\\r\"+'Find transition path',end=\"\")\n",
    "    model.find_transition_path(do_print=do_print, do_print_unknowns=False)\n",
    "    print(\"\\r\"+'Find IRFs           ',end=\"\")\n",
    "    model.find_IRFs(do_print=do_print)\n",
    "    print(\"\\r\"+'Done                ',end=\"\")\n",
    "    # return model\n"
   ],
   "metadata": {
    "collapsed": false
   }
  },
  {
   "cell_type": "code",
   "execution_count": 3,
   "metadata": {
    "collapsed": false,
    "jupyter": {
     "outputs_hidden": false
    }
   },
   "outputs": [],
   "source": [
    "model1 = HANKStickyModelClass(name='baseline', par={'inattention': 0.935, 'start_dbeg_opti': False})\n",
    "model2 = HANKStickyModelClass(name='baseline', par={'inattention': 0.935, 'start_dbeg_opti': True})"
   ]
  },
  {
   "cell_type": "code",
   "execution_count": 4,
   "metadata": {},
   "outputs": [
    {
     "name": "stdout",
     "output_type": "stream",
     "text": [
      " -------- Model: baseline ---------\n",
      "Find steady state  Find optimal beta for market clearing\n",
      "final evaluation\n",
      "household problem in ss solved in 5.4 secs [757 iterations]\n",
      "household problem in ss simulated in 5.6 secs [2658 iterations]\n",
      "steady state found in 1.0 mins 42 secs\n",
      " beta   = 0.9951\n",
      " nu     = 0.6763\n",
      "Discrepancy in L =   0.00000000\n",
      "Discrepancy in Y =   0.00000000\n",
      "Compute Jacobians  household Jacobians:\n",
      "one step deviation from steady state calculated in 0.0 secs\n",
      "curly_Y and curly_D calculated for ez              in 3.5 secs\n",
      "curly_Y and curly_D calculated for ra              in 3.6 secs\n",
      "curly_Y and curly_D calculated for rl              in 3.6 secs\n",
      "curly_Y and curly_D calculated for tau             in 3.5 secs\n",
      "curly_Y and curly_D calculated for wN              in 3.6 secs\n",
      "curly_E calculated in 3.8 secs\n",
      "builiding blocks combined in 1.2 secs\n",
      "household Jacobian computed in 22.8 secs\n",
      "household inattention = 0.935\n",
      "\n",
      "full Jacobians:\n",
      "full Jacobian to unknowns computed in 13.6 secs [in evaluate_path(): 11.4 secs]\n",
      "full Jacobian to shocks computed in 3.9 secs [in evaluate_path(): 0.3 secs]\n",
      "Find transition pathfinding the transition path:\n",
      " it =   0 -> max. abs. error = 1.31e-03\n",
      "   0.00e+00 in fisher_res\n",
      "   5.00e-05 in w_res\n",
      "   1.31e-03 in clearing_Y\n",
      "   0.00e+00 in invest_res\n",
      "   0.00e+00 in valuation_res\n",
      " it =   1 -> max. abs. error = 2.00e-04\n",
      "   2.00e-04 in fisher_res\n",
      "   2.88e-05 in w_res\n",
      "   1.28e-04 in clearing_Y\n",
      "   1.83e-04 in invest_res\n",
      "   2.17e-05 in valuation_res\n",
      " it =   2 -> max. abs. error = 1.43e-05\n",
      "   6.37e-07 in fisher_res\n",
      "   5.36e-07 in w_res\n",
      "   2.08e-06 in clearing_Y\n",
      "   1.43e-05 in invest_res\n",
      "   2.25e-07 in valuation_res\n",
      " it =   3 -> max. abs. error = 6.81e-07\n",
      "   2.12e-07 in fisher_res\n",
      "   1.99e-08 in w_res\n",
      "   1.39e-07 in clearing_Y\n",
      "   6.81e-07 in invest_res\n",
      "   4.02e-08 in valuation_res\n",
      " it =   4 -> max. abs. error = 4.01e-08\n",
      "   7.39e-10 in fisher_res\n",
      "   7.02e-10 in w_res\n",
      "   5.05e-09 in clearing_Y\n",
      "   4.01e-08 in invest_res\n",
      "   5.90e-10 in valuation_res\n",
      " it =   5 -> max. abs. error = 1.16e-09\n",
      "   1.66e-12 in fisher_res\n",
      "   1.85e-11 in w_res\n",
      "   9.82e-11 in clearing_Y\n",
      "   1.16e-09 in invest_res\n",
      "   2.96e-12 in valuation_res\n",
      " it =   6 -> max. abs. error = 6.21e-11\n",
      "   7.19e-14 in fisher_res\n",
      "   8.27e-14 in w_res\n",
      "   7.93e-13 in clearing_Y\n",
      "   6.21e-11 in invest_res\n",
      "   3.33e-13 in valuation_res\n",
      " it =   7 -> max. abs. error = 2.06e-12\n",
      "   1.18e-14 in fisher_res\n",
      "   2.27e-15 in w_res\n",
      "   4.45e-14 in clearing_Y\n",
      "   2.06e-12 in invest_res\n",
      "   8.22e-15 in valuation_res\n",
      " it =   8 -> max. abs. error = 7.79e-14\n",
      "   2.44e-15 in fisher_res\n",
      "   6.22e-16 in w_res\n",
      "   1.55e-15 in clearing_Y\n",
      "   7.79e-14 in invest_res\n",
      "   4.44e-16 in valuation_res\n",
      "\n",
      "transition path found in 1.0 secs\n",
      "Find IRFs           linear transition path found in 0.2 secs [finding solution matrix: 0.1 secs]\n",
      "Done                "
     ]
    }
   ],
   "source": [
    "solution_routine(model1, do_print=True)"
   ]
  },
  {
   "cell_type": "code",
   "execution_count": 5,
   "outputs": [
    {
     "name": "stdout",
     "output_type": "stream",
     "text": [
      " -------- Model: baseline ---------\n",
      "Find steady state  Find optimal beta for market clearing\n",
      "final evaluation\n",
      "household problem in ss solved in 5.2 secs [757 iterations]\n",
      "household problem in ss simulated in 1.1 secs [515 iterations]\n",
      "steady state found in 58.4 secs\n",
      " beta   = 0.9951\n",
      " nu     = 0.6763\n",
      "Discrepancy in L =  -0.00000000\n",
      "Discrepancy in Y =  -0.00000000\n",
      "Compute Jacobians  household Jacobians:\n",
      "one step deviation from steady state calculated in 0.0 secs\n",
      "curly_Y and curly_D calculated for ez              in 3.2 secs\n",
      "curly_Y and curly_D calculated for ra              in 3.5 secs\n",
      "curly_Y and curly_D calculated for rl              in 3.3 secs\n",
      "curly_Y and curly_D calculated for tau             in 3.3 secs\n",
      "curly_Y and curly_D calculated for wN              in 3.4 secs\n",
      "curly_E calculated in 2.2 secs\n",
      "builiding blocks combined in 1.0 secs\n",
      "household Jacobian computed in 19.9 secs\n",
      "household inattention = 0.935\n",
      "\n",
      "full Jacobians:\n",
      "full Jacobian to unknowns computed in 13.8 secs [in evaluate_path(): 10.4 secs]\n",
      "full Jacobian to shocks computed in 1.7 secs [in evaluate_path(): 0.3 secs]\n",
      "Find transition pathfinding the transition path:\n",
      " it =   0 -> max. abs. error = 1.31e-03\n",
      "   0.00e+00 in fisher_res\n",
      "   5.00e-05 in w_res\n",
      "   1.31e-03 in clearing_Y\n",
      "   0.00e+00 in invest_res\n",
      "   0.00e+00 in valuation_res\n",
      " it =   1 -> max. abs. error = 2.00e-04\n",
      "   2.00e-04 in fisher_res\n",
      "   2.88e-05 in w_res\n",
      "   1.28e-04 in clearing_Y\n",
      "   1.83e-04 in invest_res\n",
      "   2.17e-05 in valuation_res\n",
      " it =   2 -> max. abs. error = 1.43e-05\n",
      "   6.37e-07 in fisher_res\n",
      "   5.36e-07 in w_res\n",
      "   2.08e-06 in clearing_Y\n",
      "   1.43e-05 in invest_res\n",
      "   2.25e-07 in valuation_res\n",
      " it =   3 -> max. abs. error = 6.81e-07\n",
      "   2.12e-07 in fisher_res\n",
      "   1.99e-08 in w_res\n",
      "   1.39e-07 in clearing_Y\n",
      "   6.81e-07 in invest_res\n",
      "   4.02e-08 in valuation_res\n",
      " it =   4 -> max. abs. error = 4.01e-08\n",
      "   7.39e-10 in fisher_res\n",
      "   7.02e-10 in w_res\n",
      "   5.05e-09 in clearing_Y\n",
      "   4.01e-08 in invest_res\n",
      "   5.90e-10 in valuation_res\n",
      " it =   5 -> max. abs. error = 1.16e-09\n",
      "   1.66e-12 in fisher_res\n",
      "   1.85e-11 in w_res\n",
      "   9.82e-11 in clearing_Y\n",
      "   1.16e-09 in invest_res\n",
      "   2.96e-12 in valuation_res\n",
      " it =   6 -> max. abs. error = 6.21e-11\n",
      "   7.57e-14 in fisher_res\n",
      "   8.27e-14 in w_res\n",
      "   7.93e-13 in clearing_Y\n",
      "   6.21e-11 in invest_res\n",
      "   3.34e-13 in valuation_res\n",
      " it =   7 -> max. abs. error = 2.05e-12\n",
      "   1.33e-15 in fisher_res\n",
      "   2.22e-15 in w_res\n",
      "   4.44e-14 in clearing_Y\n",
      "   2.05e-12 in invest_res\n",
      "   8.44e-15 in valuation_res\n",
      " it =   8 -> max. abs. error = 6.81e-14\n",
      "   1.33e-15 in fisher_res\n",
      "   3.51e-16 in w_res\n",
      "   9.99e-16 in clearing_Y\n",
      "   6.81e-14 in invest_res\n",
      "   4.44e-16 in valuation_res\n",
      "\n",
      "transition path found in 1.1 secs\n",
      "Find IRFs           linear transition path found in 0.1 secs [finding solution matrix: 0.1 secs]\n",
      "Done                "
     ]
    }
   ],
   "source": [
    "solution_routine(model2, do_print=True)"
   ],
   "metadata": {
    "collapsed": false
   }
  },
  {
   "cell_type": "code",
   "execution_count": 16,
   "outputs": [
    {
     "data": {
      "text/plain": "1"
     },
     "execution_count": 16,
     "metadata": {},
     "output_type": "execute_result"
    }
   ],
   "source": [
    "model2.par.Nfix"
   ],
   "metadata": {
    "collapsed": false
   }
  },
  {
   "cell_type": "markdown",
   "source": [
    "# Testing"
   ],
   "metadata": {
    "collapsed": false
   }
  },
  {
   "cell_type": "code",
   "execution_count": 6,
   "outputs": [],
   "source": [
    "# model.test_hh_path()"
   ],
   "metadata": {
    "collapsed": false
   }
  },
  {
   "cell_type": "code",
   "execution_count": 7,
   "outputs": [],
   "source": [
    "# model.test_path()"
   ],
   "metadata": {
    "collapsed": false
   }
  },
  {
   "cell_type": "code",
   "execution_count": 8,
   "outputs": [],
   "source": [
    "# s_list = [0,10,20,30,40]\n",
    "# model.test_jacs(s_list=s_list)"
   ],
   "metadata": {
    "collapsed": false
   }
  },
  {
   "cell_type": "markdown",
   "metadata": {},
   "source": [
    "# Plotting"
   ]
  },
  {
   "cell_type": "code",
   "execution_count": 9,
   "metadata": {
    "collapsed": false,
    "jupyter": {
     "outputs_hidden": false
    }
   },
   "outputs": [],
   "source": [
    "# paths = ['G','Y','C_hh']\n",
    "# lvl_value = ['eg', 'em', 'i', 'Pi', 'Pi_w','clearing_Y']\n",
    "# abs_diff = ['r', 'ra', 'rl', 'i']\n",
    "# facs = {'r':100,'ra':100,'rl':100}\n",
    "# model.show_IRFs(paths,lvl_value=lvl_value,abs_diff=abs_diff,facs=facs,ncols=3,T_max=par.T,do_linear=True,do_shocks=True)"
   ]
  },
  {
   "cell_type": "markdown",
   "metadata": {},
   "source": [
    "# Misc"
   ]
  },
  {
   "cell_type": "code",
   "execution_count": 10,
   "metadata": {},
   "outputs": [],
   "source": [
    "# model.print_unpack_varlist()"
   ]
  },
  {
   "cell_type": "code",
   "execution_count": 11,
   "outputs": [],
   "source": [
    "# model.check_non_lin(0)"
   ],
   "metadata": {
    "collapsed": false
   }
  },
  {
   "cell_type": "code",
   "execution_count": 12,
   "outputs": [],
   "source": [
    "# print(np.max(path.A - path.A_hh))"
   ],
   "metadata": {
    "collapsed": false
   }
  }
 ],
 "metadata": {
  "kernelspec": {
   "display_name": "Python 3 (ipykernel)",
   "language": "python",
   "name": "python3"
  },
  "language_info": {
   "codemirror_mode": {
    "name": "ipython",
    "version": 3
   },
   "file_extension": ".py",
   "mimetype": "text/x-python",
   "name": "python",
   "nbconvert_exporter": "python",
   "pygments_lexer": "ipython3",
   "version": "3.9.10"
  }
 },
 "nbformat": 4,
 "nbformat_minor": 4
}
